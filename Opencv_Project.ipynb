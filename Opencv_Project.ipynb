{
 "cells": [
  {
   "cell_type": "code",
   "execution_count": 1,
   "id": "73ba70be-0495-496e-8d93-daebba08facb",
   "metadata": {},
   "outputs": [],
   "source": [
    "import numpy as np\n",
    "import cv2 as cv"
   ]
  },
  {
   "cell_type": "markdown",
   "id": "ea1aca47-544b-4d0e-b9d0-d0aca3fb39dc",
   "metadata": {},
   "source": [
    "## GEOMETRİK ŞEKİLLER ÜZERİNDEN BİR ÇALIŞMA"
   ]
  },
  {
   "cell_type": "code",
   "execution_count": 2,
   "id": "02c6d119-f323-4784-aa5a-e4a6c5fede4c",
   "metadata": {},
   "outputs": [],
   "source": [
    "image = cv.imread('GEOMETRIC_SHAPES.jpg')"
   ]
  },
  {
   "cell_type": "markdown",
   "id": "190a3bb3-ef77-4b91-9462-cabcc6fc4ce8",
   "metadata": {},
   "source": [
    "## GÖRÜNTÜLEME METODU"
   ]
  },
  {
   "cell_type": "code",
   "execution_count": 4,
   "id": "e3c062bd-fae9-4a22-931e-ec4a102431ce",
   "metadata": {},
   "outputs": [],
   "source": [
    "def show(imageName, image):\n",
    "    cv.imshow(imageName, image)\n",
    "    cv.waitKey(0)\n",
    "    cv.destroyAllWindows()"
   ]
  },
  {
   "cell_type": "code",
   "execution_count": 5,
   "id": "7777c47e-2723-4c38-990a-e14d6f0721f0",
   "metadata": {},
   "outputs": [],
   "source": [
    "image = cv.resize(image, (1300, 700))"
   ]
  },
  {
   "cell_type": "code",
   "execution_count": 6,
   "id": "a0b7da0d-78ad-497c-b4c3-3442a3601189",
   "metadata": {},
   "outputs": [],
   "source": [
    "show(\"Circle\", image)"
   ]
  },
  {
   "cell_type": "markdown",
   "id": "66330c1d-1c2a-4fe8-b3ad-3048f08b9cdb",
   "metadata": {},
   "source": [
    "## GÖRÜNTÜ İŞLEMEYİ KOLAYLAŞTIRMA"
   ]
  },
  {
   "cell_type": "code",
   "execution_count": 8,
   "id": "7c90f490-9826-4620-ae9b-eaaf85bb9e71",
   "metadata": {},
   "outputs": [],
   "source": [
    "grayImage = cv.cvtColor(image, cv.COLOR_BGR2GRAY)"
   ]
  },
  {
   "cell_type": "code",
   "execution_count": 9,
   "id": "74a26b94-2bc6-4400-9099-c58b4da3e8a0",
   "metadata": {},
   "outputs": [],
   "source": [
    "_, binaryImage = cv.threshold(grayImage, 221, 255, cv.THRESH_BINARY)"
   ]
  },
  {
   "cell_type": "markdown",
   "id": "b64fb413-5c09-470a-b2b4-fc6abccff9d9",
   "metadata": {},
   "source": [
    "## GÖRÜNTÜ KONTURLARINI BULMA"
   ]
  },
  {
   "cell_type": "code",
   "execution_count": 10,
   "id": "b686c3b9-a018-4b79-9d2a-cd6f1cfa9420",
   "metadata": {},
   "outputs": [],
   "source": [
    "contours, _ = cv.findContours(binaryImage, cv.RETR_TREE, cv.CHAIN_APPROX_SIMPLE)"
   ]
  },
  {
   "cell_type": "code",
   "execution_count": 11,
   "id": "31ac35fc-3757-4875-8245-8b7b4dbfe99d",
   "metadata": {},
   "outputs": [
    {
     "name": "stdout",
     "output_type": "stream",
     "text": [
      "Number of contours: 10\n"
     ]
    }
   ],
   "source": [
    "print(\"Number of contours:\", len(contours))"
   ]
  },
  {
   "cell_type": "code",
   "execution_count": 12,
   "id": "38c5c910-95ad-4ce8-99b7-7aa0527cba23",
   "metadata": {},
   "outputs": [],
   "source": [
    "cv.drawContours(image, contours, -1, (0, 0, 0), 2)\n",
    "show(\"IMAGE\", image)"
   ]
  },
  {
   "cell_type": "markdown",
   "id": "6cc62eb1-ae95-49e3-9bd1-d78f0e50b8d4",
   "metadata": {},
   "source": [
    "## ŞEKİLLERİ TANIMA"
   ]
  },
  {
   "cell_type": "code",
   "execution_count": 14,
   "id": "89c70fdb-4360-4881-8d32-910eb4b1735f",
   "metadata": {},
   "outputs": [],
   "source": [
    "number_of_triangle = 0\n",
    "number_of_rectangle = 0\n",
    "number_of_pentagon = 0\n",
    "number_of_hexagon = 0\n",
    "number_of_circle = 0"
   ]
  },
  {
   "cell_type": "code",
   "execution_count": 15,
   "id": "1a2a3c56-d36c-4529-ae25-7d49ced483b2",
   "metadata": {},
   "outputs": [],
   "source": [
    "for contour in contours:\n",
    "\n",
    "    approx = cv.approxPolyDP(contour, 0.015 * cv.arcLength(contour, True), True)\n",
    "\n",
    "    if len(approx) == 3:\n",
    "        number_of_triangle += 1\n",
    "    elif len(approx) == 4:\n",
    "        number_of_rectangle += 1\n",
    "    elif len(approx) == 5:\n",
    "        number_of_pentagon += 1\n",
    "    elif len(approx) == 6:\n",
    "        number_of_hexagon += 1\n",
    "    else:\n",
    "        number_of_circle += 1"
   ]
  },
  {
   "cell_type": "code",
   "execution_count": 16,
   "id": "3eabe5d0-4c38-4875-b831-d5f85e9238a9",
   "metadata": {},
   "outputs": [
    {
     "name": "stdout",
     "output_type": "stream",
     "text": [
      "Number of Triangle:2 \n",
      "Number of Rectangle:4 \n",
      "Number of Pentagon:1 \n",
      "Number of Hexagon:1 \n",
      "Number of Circle:1 \n"
     ]
    }
   ],
   "source": [
    "print(f\"Number of Triangle:{number_of_triangle} \")\n",
    "print(f\"Number of Rectangle:{number_of_rectangle - 1} \")\n",
    "print(f\"Number of Pentagon:{number_of_pentagon} \")\n",
    "print(f\"Number of Hexagon:{number_of_hexagon} \")\n",
    "print(f\"Number of Circle:{number_of_circle} \")"
   ]
  },
  {
   "cell_type": "markdown",
   "id": "332b6737-1c7d-4dc8-93a4-9926077ca153",
   "metadata": {},
   "source": [
    "## İSTENİLEN ŞEKİLLERİ TANIYIP BOYAMA"
   ]
  },
  {
   "cell_type": "code",
   "execution_count": 17,
   "id": "f7cd54ac-3f5a-4c02-bfae-c708189dc30f",
   "metadata": {},
   "outputs": [],
   "source": [
    "# METOD HAZIRLANDI!\n",
    "\n",
    "def fill(shape):\n",
    "    image = cv.imread('GEOMETRIC_SHAPES.jpg')\n",
    "    image = cv.resize(image, (1300, 700))\n",
    "    grayImage = cv.cvtColor(image, cv.COLOR_BGR2GRAY)\n",
    "    _, binaryImage = cv.threshold(grayImage, 221, 255, cv.THRESH_BINARY)\n",
    "    contours, _ = cv.findContours(binaryImage, cv.RETR_TREE, cv.CHAIN_APPROX_SIMPLE)  \n",
    "    \n",
    "    for contour in contours:\n",
    "\n",
    "        approx = cv.approxPolyDP(contour, 0.01 * cv.arcLength(contour, True), True)\n",
    "\n",
    "        area = cv.contourArea(contour)\n",
    "\n",
    "        if area >= 48000:\n",
    "            continue\n",
    "        \n",
    "        if str(shape) == 'Triangle' and len(approx) == 3:\n",
    "            cv.drawContours(image, [approx], -1, (0, 0, 0), cv.FILLED)\n",
    "        elif str(shape) == 'Rectangle' and len(approx) == 4:\n",
    "            cv.drawContours(image, [approx], -1, (0, 0, 0), cv.FILLED)\n",
    "        elif str(shape) == 'Pentagon' and len(approx) == 5:\n",
    "            cv.drawContours(image, [approx], -1, (0, 0, 0), cv.FILLED)\n",
    "        elif str(shape) == 'Hexagon' and len(approx) == 6:\n",
    "            cv.drawContours(image, [approx], -1, (0, 0, 0), cv.FILLED)\n",
    "        elif str(shape) == 'Circle' and len(approx) > 8:\n",
    "            cv.drawContours(image, [approx], -1, (0, 0, 0), cv.FILLED)\n",
    "\n",
    "    show(\"PAINTED SHAPES\", image)"
   ]
  },
  {
   "cell_type": "code",
   "execution_count": 18,
   "id": "84e07ad2-96b2-43e1-853b-57548b8b8571",
   "metadata": {},
   "outputs": [
    {
     "name": "stdin",
     "output_type": "stream",
     "text": [
      "Enter the name of shape: Triangle\n"
     ]
    }
   ],
   "source": [
    "shape = str(input(\"Enter the name of shape:\"))\n",
    "fill(shape)"
   ]
  },
  {
   "cell_type": "markdown",
   "id": "53ddb26a-bdce-45b7-bb0e-7e7a97a87f07",
   "metadata": {},
   "source": [
    "## VİDEO ÜZERİNDEN ÇALIŞMA"
   ]
  },
  {
   "cell_type": "code",
   "execution_count": 20,
   "id": "91da977f-db2e-4fff-aeeb-6715ee86f008",
   "metadata": {},
   "outputs": [],
   "source": [
    "video = cv.VideoCapture('GEOMETRIC SHAPES VIDEO.mov')"
   ]
  },
  {
   "cell_type": "code",
   "execution_count": 21,
   "id": "3fb4f03e-5947-43c8-9a09-bee4fc66cf6b",
   "metadata": {},
   "outputs": [],
   "source": [
    "while True:\n",
    "    isTrue, frame = video.read()\n",
    "    frame = cv.resize(frame, (1200, 700))\n",
    "    if not isTrue:\n",
    "        break\n",
    "\n",
    "    cv.imshow(\"VIDEO\", frame)\n",
    "\n",
    "    if cv.waitKey(20) & 0xFF == ord('q'):\n",
    "        break\n",
    "\n",
    "video.release()\n",
    "cv.destroyAllWindows()"
   ]
  },
  {
   "cell_type": "code",
   "execution_count": 22,
   "id": "a52bd60a-af88-42e2-8e30-c85590b3fc93",
   "metadata": {},
   "outputs": [],
   "source": [
    "video = cv.VideoCapture('GEOMETRIC SHAPES VIDEO.mov')\n",
    "\n",
    "while True:\n",
    "    isTrue, frame = video.read()\n",
    "    frame = cv.resize(frame, (1200, 700))\n",
    "    \n",
    "    if not isTrue:\n",
    "        break\n",
    "\n",
    "    grayFrame = cv.cvtColor(frame, cv.COLOR_BGR2GRAY)\n",
    "    edgesFrame = cv.Canny(grayFrame, 45, 55)\n",
    "    \n",
    "    contours, _ = cv.findContours(edgesFrame, cv.RETR_TREE, cv.CHAIN_APPROX_SIMPLE)\n",
    "\n",
    "    for contour in contours:\n",
    "\n",
    "        approx = cv.approxPolyDP(contour, 0.02 * cv.arcLength(contour, True), True)\n",
    "        \n",
    "        if len(approx) == 3: \n",
    "            cv.drawContours(frame, [approx], -1, (0, 0, 0), cv.FILLED)\n",
    "    \n",
    "    cv.imshow(\"VIDEO\", frame)\n",
    "    \n",
    "    \n",
    "    if cv.waitKey(20) & 0xFF == ord('q'):\n",
    "        break\n",
    "    \n",
    "video.release()\n",
    "cv.destroyAllWindows()\n"
   ]
  },
  {
   "cell_type": "code",
   "execution_count": null,
   "id": "ce1c718b-32d2-4a5b-9852-b721132797b2",
   "metadata": {},
   "outputs": [],
   "source": []
  }
 ],
 "metadata": {
  "kernelspec": {
   "display_name": "Python 3 (ipykernel)",
   "language": "python",
   "name": "python3"
  },
  "language_info": {
   "codemirror_mode": {
    "name": "ipython",
    "version": 3
   },
   "file_extension": ".py",
   "mimetype": "text/x-python",
   "name": "python",
   "nbconvert_exporter": "python",
   "pygments_lexer": "ipython3",
   "version": "3.12.6"
  }
 },
 "nbformat": 4,
 "nbformat_minor": 5
}
